{
 "cells": [
  {
   "cell_type": "markdown",
   "metadata": {},
   "source": [
    "# 42577 Airbnb analysis project\n",
    "\n",
    "Jaime Guzman - S222025"
   ]
  },
  {
   "cell_type": "markdown",
   "metadata": {},
   "source": [
    "## Section 1 - Introduction"
   ]
  },
  {
   "cell_type": "markdown",
   "metadata": {},
   "source": [
    "For this project the following libraries will be used. To avoid the need to look for them **all** the libraries that are used in this project will be find here."
   ]
  },
  {
   "cell_type": "code",
   "execution_count": 2,
   "metadata": {},
   "outputs": [],
   "source": [
    "import pandas as pd\n",
    "import numpy as np\n",
    "import matplotlib.pyplot as plt\n",
    "import seaborn as sns\n",
    "import sklearn"
   ]
  },
  {
   "cell_type": "markdown",
   "metadata": {},
   "source": [
    "### Section 1.1 - Data Loading & Cleaning\n",
    "The first thing that will be done is to load the data into a pandas dataframe and inspect the data for any anomaly that might require cleansing."
   ]
  },
  {
   "cell_type": "code",
   "execution_count": 3,
   "metadata": {},
   "outputs": [
    {
     "name": "stdout",
     "output_type": "stream",
     "text": [
      "(13815, 18)\n"
     ]
    },
    {
     "data": {
      "text/html": [
       "<div>\n",
       "<style scoped>\n",
       "    .dataframe tbody tr th:only-of-type {\n",
       "        vertical-align: middle;\n",
       "    }\n",
       "\n",
       "    .dataframe tbody tr th {\n",
       "        vertical-align: top;\n",
       "    }\n",
       "\n",
       "    .dataframe thead th {\n",
       "        text-align: right;\n",
       "    }\n",
       "</style>\n",
       "<table border=\"1\" class=\"dataframe\">\n",
       "  <thead>\n",
       "    <tr style=\"text-align: right;\">\n",
       "      <th></th>\n",
       "      <th>id</th>\n",
       "      <th>name</th>\n",
       "      <th>host_id</th>\n",
       "      <th>host_name</th>\n",
       "      <th>neighbourhood_group</th>\n",
       "      <th>neighbourhood</th>\n",
       "      <th>latitude</th>\n",
       "      <th>longitude</th>\n",
       "      <th>room_type</th>\n",
       "      <th>price</th>\n",
       "      <th>minimum_nights</th>\n",
       "      <th>number_of_reviews</th>\n",
       "      <th>last_review</th>\n",
       "      <th>reviews_per_month</th>\n",
       "      <th>calculated_host_listings_count</th>\n",
       "      <th>availability_365</th>\n",
       "      <th>number_of_reviews_ltm</th>\n",
       "      <th>license</th>\n",
       "    </tr>\n",
       "  </thead>\n",
       "  <tbody>\n",
       "    <tr>\n",
       "      <th>0</th>\n",
       "      <td>6983</td>\n",
       "      <td>Copenhagen 'N Livin'</td>\n",
       "      <td>16774</td>\n",
       "      <td>Simon</td>\n",
       "      <td>NaN</td>\n",
       "      <td>Nrrebro</td>\n",
       "      <td>55.686410</td>\n",
       "      <td>12.547410</td>\n",
       "      <td>Entire home/apt</td>\n",
       "      <td>898</td>\n",
       "      <td>3</td>\n",
       "      <td>172</td>\n",
       "      <td>2022-06-21</td>\n",
       "      <td>1.08</td>\n",
       "      <td>1</td>\n",
       "      <td>0</td>\n",
       "      <td>4</td>\n",
       "      <td>NaN</td>\n",
       "    </tr>\n",
       "    <tr>\n",
       "      <th>1</th>\n",
       "      <td>26057</td>\n",
       "      <td>Lovely house - most attractive area</td>\n",
       "      <td>109777</td>\n",
       "      <td>Kari</td>\n",
       "      <td>NaN</td>\n",
       "      <td>Indre By</td>\n",
       "      <td>55.693070</td>\n",
       "      <td>12.576490</td>\n",
       "      <td>Entire home/apt</td>\n",
       "      <td>2600</td>\n",
       "      <td>4</td>\n",
       "      <td>59</td>\n",
       "      <td>2022-08-09</td>\n",
       "      <td>0.55</td>\n",
       "      <td>1</td>\n",
       "      <td>303</td>\n",
       "      <td>8</td>\n",
       "      <td>NaN</td>\n",
       "    </tr>\n",
       "    <tr>\n",
       "      <th>2</th>\n",
       "      <td>26473</td>\n",
       "      <td>City Centre Townhouse Sleeps 1-10 persons</td>\n",
       "      <td>112210</td>\n",
       "      <td>Julia</td>\n",
       "      <td>NaN</td>\n",
       "      <td>Indre By</td>\n",
       "      <td>55.676020</td>\n",
       "      <td>12.575400</td>\n",
       "      <td>Entire home/apt</td>\n",
       "      <td>3250</td>\n",
       "      <td>3</td>\n",
       "      <td>300</td>\n",
       "      <td>2022-09-10</td>\n",
       "      <td>2.06</td>\n",
       "      <td>3</td>\n",
       "      <td>56</td>\n",
       "      <td>7</td>\n",
       "      <td>NaN</td>\n",
       "    </tr>\n",
       "    <tr>\n",
       "      <th>3</th>\n",
       "      <td>29118</td>\n",
       "      <td>Best Location in Cool Istedgade</td>\n",
       "      <td>125230</td>\n",
       "      <td>Nana</td>\n",
       "      <td>NaN</td>\n",
       "      <td>Vesterbro-Kongens Enghave</td>\n",
       "      <td>55.670230</td>\n",
       "      <td>12.555040</td>\n",
       "      <td>Entire home/apt</td>\n",
       "      <td>725</td>\n",
       "      <td>7</td>\n",
       "      <td>24</td>\n",
       "      <td>2022-08-04</td>\n",
       "      <td>0.16</td>\n",
       "      <td>1</td>\n",
       "      <td>59</td>\n",
       "      <td>2</td>\n",
       "      <td>NaN</td>\n",
       "    </tr>\n",
       "    <tr>\n",
       "      <th>4</th>\n",
       "      <td>31094</td>\n",
       "      <td>Beautiful, spacious, central, renovated Penthouse</td>\n",
       "      <td>129976</td>\n",
       "      <td>Ebbe</td>\n",
       "      <td>NaN</td>\n",
       "      <td>Vesterbro-Kongens Enghave</td>\n",
       "      <td>55.666602</td>\n",
       "      <td>12.555283</td>\n",
       "      <td>Entire home/apt</td>\n",
       "      <td>1954</td>\n",
       "      <td>3</td>\n",
       "      <td>19</td>\n",
       "      <td>2022-08-22</td>\n",
       "      <td>0.13</td>\n",
       "      <td>1</td>\n",
       "      <td>0</td>\n",
       "      <td>2</td>\n",
       "      <td>NaN</td>\n",
       "    </tr>\n",
       "  </tbody>\n",
       "</table>\n",
       "</div>"
      ],
      "text/plain": [
       "      id                                               name  host_id  \\\n",
       "0   6983                               Copenhagen 'N Livin'    16774   \n",
       "1  26057                Lovely house - most attractive area   109777   \n",
       "2  26473          City Centre Townhouse Sleeps 1-10 persons   112210   \n",
       "3  29118                    Best Location in Cool Istedgade   125230   \n",
       "4  31094  Beautiful, spacious, central, renovated Penthouse   129976   \n",
       "\n",
       "  host_name  neighbourhood_group              neighbourhood   latitude  \\\n",
       "0     Simon                  NaN                    Nrrebro  55.686410   \n",
       "1      Kari                  NaN                   Indre By  55.693070   \n",
       "2     Julia                  NaN                   Indre By  55.676020   \n",
       "3      Nana                  NaN  Vesterbro-Kongens Enghave  55.670230   \n",
       "4      Ebbe                  NaN  Vesterbro-Kongens Enghave  55.666602   \n",
       "\n",
       "   longitude        room_type  price  minimum_nights  number_of_reviews  \\\n",
       "0  12.547410  Entire home/apt    898               3                172   \n",
       "1  12.576490  Entire home/apt   2600               4                 59   \n",
       "2  12.575400  Entire home/apt   3250               3                300   \n",
       "3  12.555040  Entire home/apt    725               7                 24   \n",
       "4  12.555283  Entire home/apt   1954               3                 19   \n",
       "\n",
       "  last_review  reviews_per_month  calculated_host_listings_count  \\\n",
       "0  2022-06-21               1.08                               1   \n",
       "1  2022-08-09               0.55                               1   \n",
       "2  2022-09-10               2.06                               3   \n",
       "3  2022-08-04               0.16                               1   \n",
       "4  2022-08-22               0.13                               1   \n",
       "\n",
       "   availability_365  number_of_reviews_ltm  license  \n",
       "0                 0                      4      NaN  \n",
       "1               303                      8      NaN  \n",
       "2                56                      7      NaN  \n",
       "3                59                      2      NaN  \n",
       "4                 0                      2      NaN  "
      ]
     },
     "execution_count": 3,
     "metadata": {},
     "output_type": "execute_result"
    }
   ],
   "source": [
    "data = pd.read_csv('listings_CPH.csv')\n",
    "print(data.shape)\n",
    "data.head()"
   ]
  },
  {
   "cell_type": "markdown",
   "metadata": {},
   "source": [
    "We can see that the data was loaded correctly, now it is necessary to check if the data has any abnormality and also to inspect the data type of each column to verify it's correct."
   ]
  },
  {
   "cell_type": "code",
   "execution_count": 4,
   "metadata": {},
   "outputs": [
    {
     "name": "stdout",
     "output_type": "stream",
     "text": [
      "<class 'pandas.core.frame.DataFrame'>\n",
      "RangeIndex: 13815 entries, 0 to 13814\n",
      "Data columns (total 18 columns):\n",
      " #   Column                          Non-Null Count  Dtype  \n",
      "---  ------                          --------------  -----  \n",
      " 0   id                              13815 non-null  int64  \n",
      " 1   name                            13815 non-null  object \n",
      " 2   host_id                         13815 non-null  int64  \n",
      " 3   host_name                       13814 non-null  object \n",
      " 4   neighbourhood_group             0 non-null      float64\n",
      " 5   neighbourhood                   13815 non-null  object \n",
      " 6   latitude                        13815 non-null  float64\n",
      " 7   longitude                       13815 non-null  float64\n",
      " 8   room_type                       13815 non-null  object \n",
      " 9   price                           13815 non-null  int64  \n",
      " 10  minimum_nights                  13815 non-null  int64  \n",
      " 11  number_of_reviews               13815 non-null  int64  \n",
      " 12  last_review                     12170 non-null  object \n",
      " 13  reviews_per_month               12170 non-null  float64\n",
      " 14  calculated_host_listings_count  13815 non-null  int64  \n",
      " 15  availability_365                13815 non-null  int64  \n",
      " 16  number_of_reviews_ltm           13815 non-null  int64  \n",
      " 17  license                         0 non-null      float64\n",
      "dtypes: float64(5), int64(8), object(5)\n",
      "memory usage: 1.9+ MB\n"
     ]
    }
   ],
   "source": [
    "data.info()"
   ]
  },
  {
   "cell_type": "markdown",
   "metadata": {},
   "source": [
    "It seems that the data on the columns neighbourhood_group and license is not showing, it is a good idea to check for all unique values in these columns to verify that the data is all null. In case it is, then we can just delete the columns."
   ]
  },
  {
   "cell_type": "code",
   "execution_count": 5,
   "metadata": {},
   "outputs": [
    {
     "name": "stdout",
     "output_type": "stream",
     "text": [
      "neighbourhood_group: [nan]\n",
      "license: [nan]\n"
     ]
    }
   ],
   "source": [
    "print(f'neighbourhood_group: {data.neighbourhood_group.unique()}')\n",
    "print(f'license: {data.license.unique()}')"
   ]
  },
  {
   "cell_type": "markdown",
   "metadata": {},
   "source": [
    "Since our data is only null values we will delete it form our dataframe for now."
   ]
  },
  {
   "cell_type": "code",
   "execution_count": 6,
   "metadata": {},
   "outputs": [
    {
     "data": {
      "text/html": [
       "<div>\n",
       "<style scoped>\n",
       "    .dataframe tbody tr th:only-of-type {\n",
       "        vertical-align: middle;\n",
       "    }\n",
       "\n",
       "    .dataframe tbody tr th {\n",
       "        vertical-align: top;\n",
       "    }\n",
       "\n",
       "    .dataframe thead th {\n",
       "        text-align: right;\n",
       "    }\n",
       "</style>\n",
       "<table border=\"1\" class=\"dataframe\">\n",
       "  <thead>\n",
       "    <tr style=\"text-align: right;\">\n",
       "      <th></th>\n",
       "      <th>id</th>\n",
       "      <th>name</th>\n",
       "      <th>host_id</th>\n",
       "      <th>host_name</th>\n",
       "      <th>neighbourhood</th>\n",
       "      <th>latitude</th>\n",
       "      <th>longitude</th>\n",
       "      <th>room_type</th>\n",
       "      <th>price</th>\n",
       "      <th>minimum_nights</th>\n",
       "      <th>number_of_reviews</th>\n",
       "      <th>last_review</th>\n",
       "      <th>reviews_per_month</th>\n",
       "      <th>calculated_host_listings_count</th>\n",
       "      <th>availability_365</th>\n",
       "      <th>number_of_reviews_ltm</th>\n",
       "    </tr>\n",
       "  </thead>\n",
       "  <tbody>\n",
       "    <tr>\n",
       "      <th>0</th>\n",
       "      <td>6983</td>\n",
       "      <td>Copenhagen 'N Livin'</td>\n",
       "      <td>16774</td>\n",
       "      <td>Simon</td>\n",
       "      <td>Nrrebro</td>\n",
       "      <td>55.686410</td>\n",
       "      <td>12.547410</td>\n",
       "      <td>Entire home/apt</td>\n",
       "      <td>898</td>\n",
       "      <td>3</td>\n",
       "      <td>172</td>\n",
       "      <td>2022-06-21</td>\n",
       "      <td>1.08</td>\n",
       "      <td>1</td>\n",
       "      <td>0</td>\n",
       "      <td>4</td>\n",
       "    </tr>\n",
       "    <tr>\n",
       "      <th>1</th>\n",
       "      <td>26057</td>\n",
       "      <td>Lovely house - most attractive area</td>\n",
       "      <td>109777</td>\n",
       "      <td>Kari</td>\n",
       "      <td>Indre By</td>\n",
       "      <td>55.693070</td>\n",
       "      <td>12.576490</td>\n",
       "      <td>Entire home/apt</td>\n",
       "      <td>2600</td>\n",
       "      <td>4</td>\n",
       "      <td>59</td>\n",
       "      <td>2022-08-09</td>\n",
       "      <td>0.55</td>\n",
       "      <td>1</td>\n",
       "      <td>303</td>\n",
       "      <td>8</td>\n",
       "    </tr>\n",
       "    <tr>\n",
       "      <th>2</th>\n",
       "      <td>26473</td>\n",
       "      <td>City Centre Townhouse Sleeps 1-10 persons</td>\n",
       "      <td>112210</td>\n",
       "      <td>Julia</td>\n",
       "      <td>Indre By</td>\n",
       "      <td>55.676020</td>\n",
       "      <td>12.575400</td>\n",
       "      <td>Entire home/apt</td>\n",
       "      <td>3250</td>\n",
       "      <td>3</td>\n",
       "      <td>300</td>\n",
       "      <td>2022-09-10</td>\n",
       "      <td>2.06</td>\n",
       "      <td>3</td>\n",
       "      <td>56</td>\n",
       "      <td>7</td>\n",
       "    </tr>\n",
       "    <tr>\n",
       "      <th>3</th>\n",
       "      <td>29118</td>\n",
       "      <td>Best Location in Cool Istedgade</td>\n",
       "      <td>125230</td>\n",
       "      <td>Nana</td>\n",
       "      <td>Vesterbro-Kongens Enghave</td>\n",
       "      <td>55.670230</td>\n",
       "      <td>12.555040</td>\n",
       "      <td>Entire home/apt</td>\n",
       "      <td>725</td>\n",
       "      <td>7</td>\n",
       "      <td>24</td>\n",
       "      <td>2022-08-04</td>\n",
       "      <td>0.16</td>\n",
       "      <td>1</td>\n",
       "      <td>59</td>\n",
       "      <td>2</td>\n",
       "    </tr>\n",
       "    <tr>\n",
       "      <th>4</th>\n",
       "      <td>31094</td>\n",
       "      <td>Beautiful, spacious, central, renovated Penthouse</td>\n",
       "      <td>129976</td>\n",
       "      <td>Ebbe</td>\n",
       "      <td>Vesterbro-Kongens Enghave</td>\n",
       "      <td>55.666602</td>\n",
       "      <td>12.555283</td>\n",
       "      <td>Entire home/apt</td>\n",
       "      <td>1954</td>\n",
       "      <td>3</td>\n",
       "      <td>19</td>\n",
       "      <td>2022-08-22</td>\n",
       "      <td>0.13</td>\n",
       "      <td>1</td>\n",
       "      <td>0</td>\n",
       "      <td>2</td>\n",
       "    </tr>\n",
       "  </tbody>\n",
       "</table>\n",
       "</div>"
      ],
      "text/plain": [
       "      id                                               name  host_id  \\\n",
       "0   6983                               Copenhagen 'N Livin'    16774   \n",
       "1  26057                Lovely house - most attractive area   109777   \n",
       "2  26473          City Centre Townhouse Sleeps 1-10 persons   112210   \n",
       "3  29118                    Best Location in Cool Istedgade   125230   \n",
       "4  31094  Beautiful, spacious, central, renovated Penthouse   129976   \n",
       "\n",
       "  host_name              neighbourhood   latitude  longitude        room_type  \\\n",
       "0     Simon                    Nrrebro  55.686410  12.547410  Entire home/apt   \n",
       "1      Kari                   Indre By  55.693070  12.576490  Entire home/apt   \n",
       "2     Julia                   Indre By  55.676020  12.575400  Entire home/apt   \n",
       "3      Nana  Vesterbro-Kongens Enghave  55.670230  12.555040  Entire home/apt   \n",
       "4      Ebbe  Vesterbro-Kongens Enghave  55.666602  12.555283  Entire home/apt   \n",
       "\n",
       "   price  minimum_nights  number_of_reviews last_review  reviews_per_month  \\\n",
       "0    898               3                172  2022-06-21               1.08   \n",
       "1   2600               4                 59  2022-08-09               0.55   \n",
       "2   3250               3                300  2022-09-10               2.06   \n",
       "3    725               7                 24  2022-08-04               0.16   \n",
       "4   1954               3                 19  2022-08-22               0.13   \n",
       "\n",
       "   calculated_host_listings_count  availability_365  number_of_reviews_ltm  \n",
       "0                               1                 0                      4  \n",
       "1                               1               303                      8  \n",
       "2                               3                56                      7  \n",
       "3                               1                59                      2  \n",
       "4                               1                 0                      2  "
      ]
     },
     "execution_count": 6,
     "metadata": {},
     "output_type": "execute_result"
    }
   ],
   "source": [
    "data.drop(['neighbourhood_group', 'license'], axis=1, inplace=True)\n",
    "data.head()"
   ]
  },
  {
   "cell_type": "markdown",
   "metadata": {},
   "source": [
    "Now we check for different statistical values that might help us discover outliers in our data."
   ]
  },
  {
   "cell_type": "code",
   "execution_count": 7,
   "metadata": {},
   "outputs": [
    {
     "data": {
      "text/html": [
       "<div>\n",
       "<style scoped>\n",
       "    .dataframe tbody tr th:only-of-type {\n",
       "        vertical-align: middle;\n",
       "    }\n",
       "\n",
       "    .dataframe tbody tr th {\n",
       "        vertical-align: top;\n",
       "    }\n",
       "\n",
       "    .dataframe thead th {\n",
       "        text-align: right;\n",
       "    }\n",
       "</style>\n",
       "<table border=\"1\" class=\"dataframe\">\n",
       "  <thead>\n",
       "    <tr style=\"text-align: right;\">\n",
       "      <th></th>\n",
       "      <th>id</th>\n",
       "      <th>host_id</th>\n",
       "      <th>latitude</th>\n",
       "      <th>longitude</th>\n",
       "      <th>price</th>\n",
       "      <th>minimum_nights</th>\n",
       "      <th>number_of_reviews</th>\n",
       "      <th>reviews_per_month</th>\n",
       "      <th>calculated_host_listings_count</th>\n",
       "      <th>availability_365</th>\n",
       "      <th>number_of_reviews_ltm</th>\n",
       "    </tr>\n",
       "  </thead>\n",
       "  <tbody>\n",
       "    <tr>\n",
       "      <th>count</th>\n",
       "      <td>1.381500e+04</td>\n",
       "      <td>1.381500e+04</td>\n",
       "      <td>13815.000000</td>\n",
       "      <td>13815.000000</td>\n",
       "      <td>13815.000000</td>\n",
       "      <td>13815.000000</td>\n",
       "      <td>13815.000000</td>\n",
       "      <td>12170.000000</td>\n",
       "      <td>13815.000000</td>\n",
       "      <td>13815.000000</td>\n",
       "      <td>13815.000000</td>\n",
       "    </tr>\n",
       "    <tr>\n",
       "      <th>mean</th>\n",
       "      <td>1.719385e+17</td>\n",
       "      <td>1.064145e+08</td>\n",
       "      <td>55.680569</td>\n",
       "      <td>12.557805</td>\n",
       "      <td>1205.878972</td>\n",
       "      <td>4.605574</td>\n",
       "      <td>18.571118</td>\n",
       "      <td>0.903816</td>\n",
       "      <td>4.400651</td>\n",
       "      <td>93.302642</td>\n",
       "      <td>5.451104</td>\n",
       "    </tr>\n",
       "    <tr>\n",
       "      <th>std</th>\n",
       "      <td>2.852538e+17</td>\n",
       "      <td>1.302801e+08</td>\n",
       "      <td>0.021088</td>\n",
       "      <td>0.033512</td>\n",
       "      <td>1433.143149</td>\n",
       "      <td>16.900153</td>\n",
       "      <td>36.402671</td>\n",
       "      <td>1.110754</td>\n",
       "      <td>21.298565</td>\n",
       "      <td>123.161958</td>\n",
       "      <td>11.373977</td>\n",
       "    </tr>\n",
       "    <tr>\n",
       "      <th>min</th>\n",
       "      <td>6.983000e+03</td>\n",
       "      <td>1.171800e+04</td>\n",
       "      <td>55.609510</td>\n",
       "      <td>12.435670</td>\n",
       "      <td>0.000000</td>\n",
       "      <td>1.000000</td>\n",
       "      <td>0.000000</td>\n",
       "      <td>0.010000</td>\n",
       "      <td>1.000000</td>\n",
       "      <td>0.000000</td>\n",
       "      <td>0.000000</td>\n",
       "    </tr>\n",
       "    <tr>\n",
       "      <th>25%</th>\n",
       "      <td>1.907962e+07</td>\n",
       "      <td>1.356383e+07</td>\n",
       "      <td>55.666110</td>\n",
       "      <td>12.540285</td>\n",
       "      <td>729.000000</td>\n",
       "      <td>2.000000</td>\n",
       "      <td>2.000000</td>\n",
       "      <td>0.230000</td>\n",
       "      <td>1.000000</td>\n",
       "      <td>0.000000</td>\n",
       "      <td>0.000000</td>\n",
       "    </tr>\n",
       "    <tr>\n",
       "      <th>50%</th>\n",
       "      <td>3.931542e+07</td>\n",
       "      <td>4.656301e+07</td>\n",
       "      <td>55.681190</td>\n",
       "      <td>12.555520</td>\n",
       "      <td>995.000000</td>\n",
       "      <td>3.000000</td>\n",
       "      <td>7.000000</td>\n",
       "      <td>0.530000</td>\n",
       "      <td>1.000000</td>\n",
       "      <td>20.000000</td>\n",
       "      <td>3.000000</td>\n",
       "    </tr>\n",
       "    <tr>\n",
       "      <th>75%</th>\n",
       "      <td>5.665348e+17</td>\n",
       "      <td>1.553486e+08</td>\n",
       "      <td>55.695770</td>\n",
       "      <td>12.580741</td>\n",
       "      <td>1368.500000</td>\n",
       "      <td>4.000000</td>\n",
       "      <td>20.000000</td>\n",
       "      <td>1.120000</td>\n",
       "      <td>1.000000</td>\n",
       "      <td>174.000000</td>\n",
       "      <td>6.000000</td>\n",
       "    </tr>\n",
       "    <tr>\n",
       "      <th>max</th>\n",
       "      <td>7.222925e+17</td>\n",
       "      <td>4.805803e+08</td>\n",
       "      <td>55.742800</td>\n",
       "      <td>12.651740</td>\n",
       "      <td>64900.000000</td>\n",
       "      <td>1111.000000</td>\n",
       "      <td>711.000000</td>\n",
       "      <td>24.020000</td>\n",
       "      <td>179.000000</td>\n",
       "      <td>365.000000</td>\n",
       "      <td>471.000000</td>\n",
       "    </tr>\n",
       "  </tbody>\n",
       "</table>\n",
       "</div>"
      ],
      "text/plain": [
       "                 id       host_id      latitude     longitude         price  \\\n",
       "count  1.381500e+04  1.381500e+04  13815.000000  13815.000000  13815.000000   \n",
       "mean   1.719385e+17  1.064145e+08     55.680569     12.557805   1205.878972   \n",
       "std    2.852538e+17  1.302801e+08      0.021088      0.033512   1433.143149   \n",
       "min    6.983000e+03  1.171800e+04     55.609510     12.435670      0.000000   \n",
       "25%    1.907962e+07  1.356383e+07     55.666110     12.540285    729.000000   \n",
       "50%    3.931542e+07  4.656301e+07     55.681190     12.555520    995.000000   \n",
       "75%    5.665348e+17  1.553486e+08     55.695770     12.580741   1368.500000   \n",
       "max    7.222925e+17  4.805803e+08     55.742800     12.651740  64900.000000   \n",
       "\n",
       "       minimum_nights  number_of_reviews  reviews_per_month  \\\n",
       "count    13815.000000       13815.000000       12170.000000   \n",
       "mean         4.605574          18.571118           0.903816   \n",
       "std         16.900153          36.402671           1.110754   \n",
       "min          1.000000           0.000000           0.010000   \n",
       "25%          2.000000           2.000000           0.230000   \n",
       "50%          3.000000           7.000000           0.530000   \n",
       "75%          4.000000          20.000000           1.120000   \n",
       "max       1111.000000         711.000000          24.020000   \n",
       "\n",
       "       calculated_host_listings_count  availability_365  number_of_reviews_ltm  \n",
       "count                    13815.000000      13815.000000           13815.000000  \n",
       "mean                         4.400651         93.302642               5.451104  \n",
       "std                         21.298565        123.161958              11.373977  \n",
       "min                          1.000000          0.000000               0.000000  \n",
       "25%                          1.000000          0.000000               0.000000  \n",
       "50%                          1.000000         20.000000               3.000000  \n",
       "75%                          1.000000        174.000000               6.000000  \n",
       "max                        179.000000        365.000000             471.000000  "
      ]
     },
     "execution_count": 7,
     "metadata": {},
     "output_type": "execute_result"
    }
   ],
   "source": [
    "data.describe()"
   ]
  },
  {
   "cell_type": "markdown",
   "metadata": {},
   "source": [
    "We can see some interesting data from here. For example, the lowest price listed is 0, which doesn't make any sense. It would do good to look into this further to find information."
   ]
  },
  {
   "cell_type": "code",
   "execution_count": 8,
   "metadata": {},
   "outputs": [
    {
     "data": {
      "text/plain": [
       "id                                   0\n",
       "name                                 0\n",
       "host_id                              0\n",
       "host_name                            1\n",
       "neighbourhood                        0\n",
       "latitude                             0\n",
       "longitude                            0\n",
       "room_type                            0\n",
       "price                                0\n",
       "minimum_nights                       0\n",
       "number_of_reviews                    0\n",
       "last_review                       1645\n",
       "reviews_per_month                    0\n",
       "calculated_host_listings_count       0\n",
       "availability_365                     0\n",
       "number_of_reviews_ltm                0\n",
       "dtype: int64"
      ]
     },
     "execution_count": 8,
     "metadata": {},
     "output_type": "execute_result"
    }
   ],
   "source": [
    "data.reviews_per_month = data.reviews_per_month.fillna(0)\n",
    "data.isna().sum()"
   ]
  },
  {
   "cell_type": "markdown",
   "metadata": {},
   "source": [
    "## Section 1.2 - Data Exploration"
   ]
  },
  {
   "cell_type": "markdown",
   "metadata": {},
   "source": [
    "Here we are going dive further into the data. As we saw before, our price variable seems to have some issues, so we will start with that, but we will do the same analysis to all of our variables."
   ]
  },
  {
   "cell_type": "code",
   "execution_count": 9,
   "metadata": {},
   "outputs": [
    {
     "data": {
      "text/plain": [
       "<AxesSubplot:xlabel='price', ylabel='Count'>"
      ]
     },
     "execution_count": 9,
     "metadata": {},
     "output_type": "execute_result"
    },
    {
     "data": {
      "image/png": "[encoded data removed]",
      "text/plain": [
       "<Figure size 842.4x595.44 with 1 Axes>"
      ]
     },
     "metadata": {},
     "output_type": "display_data"
    }
   ],
   "source": [
    "sns.set(rc={'figure.figsize':(11.7,8.27)})\n",
    "sns.histplot(data=data, x='price', kde=True)"
   ]
  },
  {
   "cell_type": "markdown",
   "metadata": {},
   "source": [
    "The situation with the price variable is surprising. We can see taht the mayority of pricings are at or near 0. It was expected to have some high priced rental locations, but the disparity between the lowest and highest priced rental is a little bit much. We shall now dive further into this analysis."
   ]
  },
  {
   "cell_type": "code",
   "execution_count": 10,
   "metadata": {},
   "outputs": [
    {
     "data": {
      "text/plain": [
       "1000    656\n",
       "1200    563\n",
       "800     506\n",
       "900     439\n",
       "1500    425\n",
       "       ... \n",
       "4400      1\n",
       "198       1\n",
       "3333      1\n",
       "1787      1\n",
       "347       1\n",
       "Name: price, Length: 1689, dtype: int64"
      ]
     },
     "execution_count": 10,
     "metadata": {},
     "output_type": "execute_result"
    }
   ],
   "source": [
    "data.price.value_counts()"
   ]
  },
  {
   "cell_type": "code",
   "execution_count": 11,
   "metadata": {},
   "outputs": [
    {
     "data": {
      "text/plain": [
       "2"
      ]
     },
     "execution_count": 11,
     "metadata": {},
     "output_type": "execute_result"
    }
   ],
   "source": [
    "data[data['price'] == 0]['price'].count()"
   ]
  },
  {
   "cell_type": "markdown",
   "metadata": {},
   "source": [
    "We find that the case of having alot of properties with value 0 is not the case, since most are priced in 1000. We will now do the same chart as above but only for the data that is less than 10000 to see the distribution of our data without the expensive outliers."
   ]
  },
  {
   "cell_type": "code",
   "execution_count": 12,
   "metadata": {},
   "outputs": [
    {
     "data": {
      "text/plain": [
       "<AxesSubplot:xlabel='price', ylabel='Count'>"
      ]
     },
     "execution_count": 12,
     "metadata": {},
     "output_type": "execute_result"
    },
    {
     "data": {
      "image/png": "[encoded data removed]",
      "text/plain": [
       "<Figure size 842.4x595.44 with 1 Axes>"
      ]
     },
     "metadata": {},
     "output_type": "display_data"
    }
   ],
   "source": [
    "sns.set(rc={'figure.figsize':(11.7,8.27)})\n",
    "dataf = data[data['price'] < 10000]\n",
    "sns.histplot(data=dataf, x='price', kde=True)"
   ]
  },
  {
   "cell_type": "markdown",
   "metadata": {},
   "source": [
    "With the figure above we can now understand better the distribution of prices for the different airbnbs that are listes in Copenhagen. Now we want to find the outliers for all our variables, therefore we are going to implement a box plot for all our variables, which will help us see which variables have many outliers and which are distributed more normally. It is also important to remember that our price variable is set to local currency, therefore all values are in danish krones."
   ]
  },
  {
   "cell_type": "code",
   "execution_count": 13,
   "metadata": {},
   "outputs": [
    {
     "data": {
      "image/png": "[encoded data removed]",
      "text/plain": [
       "<Figure size 842.4x595.44 with 1 Axes>"
      ]
     },
     "metadata": {},
     "output_type": "display_data"
    },
    {
     "data": {
      "image/png": "[encoded data removed]",
      "text/plain": [
       "<Figure size 842.4x595.44 with 1 Axes>"
      ]
     },
     "metadata": {},
     "output_type": "display_data"
    },
    {
     "data": {
      "image/png": "[encoded data removed]",
      "text/plain": [
       "<Figure size 842.4x595.44 with 1 Axes>"
      ]
     },
     "metadata": {},
     "output_type": "display_data"
    },
    {
     "data": {
      "image/png": "[encoded data removed]",
      "text/plain": [
       "<Figure size 842.4x595.44 with 1 Axes>"
      ]
     },
     "metadata": {},
     "output_type": "display_data"
    },
    {
     "data": {
      "image/png": "[encoded data removed]",
      "text/plain": [
       "<Figure size 842.4x595.44 with 1 Axes>"
      ]
     },
     "metadata": {},
     "output_type": "display_data"
    },
    {
     "data": {
      "image/png": "[encoded data removed]",
      "text/plain": [
       "<Figure size 842.4x595.44 with 1 Axes>"
      ]
     },
     "metadata": {},
     "output_type": "display_data"
    },
    {
     "data": {
      "image/png": "[encoded data removed]",
      "text/plain": [
       "<Figure size 842.4x595.44 with 1 Axes>"
      ]
     },
     "metadata": {},
     "output_type": "display_data"
    },
    {
     "data": {
      "image/png": "[encoded data removed]",
      "text/plain": [
       "<Figure size 842.4x595.44 with 1 Axes>"
      ]
     },
     "metadata": {},
     "output_type": "display_data"
    },
    {
     "data": {
      "image/png": "[encoded data removed]",
      "text/plain": [
       "<Figure size 842.4x595.44 with 1 Axes>"
      ]
     },
     "metadata": {},
     "output_type": "display_data"
    },
    {
     "data": {
      "image/png": "[encoded data removed]",
      "text/plain": [
       "<Figure size 842.4x595.44 with 1 Axes>"
      ]
     },
     "metadata": {},
     "output_type": "display_data"
    },
    {
     "data": {
      "image/png": "[encoded data removed]",
      "text/plain": [
       "<Figure size 842.4x595.44 with 1 Axes>"
      ]
     },
     "metadata": {},
     "output_type": "display_data"
    }
   ],
   "source": [
    "def plot_box(df, col):\n",
    "    sns.set(rc={'figure.figsize':(11.7,8.27)})\n",
    "    sns.boxplot(data=df, y=col).set_title(col)\n",
    "    plt.show()\n",
    "\n",
    "for col in data.columns:\n",
    "    if data[col].dtype == 'int64' or data[col].dtype == 'float64':\n",
    "        plot_box(data, col)"
   ]
  },
  {
   "cell_type": "markdown",
   "metadata": {},
   "source": [
    "We can see some very interesting data in the plots above. The one that is most interesting is the minimum_nights variable, which is telling us there are some outliers that are asking for a minimum of 200 nights, with some asking for over 1000 nights. This are conditions that are not very common and invite many questions, such as what type of rental property is this or what are the asking prices when asking someone to live for almost a year (or 3 in the case of 1000+)."
   ]
  },
  {
   "cell_type": "code",
   "execution_count": 14,
   "metadata": {},
   "outputs": [
    {
     "data": {
      "image/png": "[encoded data removed]",
      "text/plain": [
       "<Figure size 842.4x595.44 with 2 Axes>"
      ]
     },
     "metadata": {},
     "output_type": "display_data"
    }
   ],
   "source": [
    "fig, ax = plt.subplots(1,2)\n",
    "# sns.set(rc={'figure.figsize':(11.7,8.27)})\n",
    "dataf = data[data['price'] < 10000]\n",
    "sns.ecdfplot(data=dataf, x='price', ax=ax[1])\n",
    "sns.boxplot(data=dataf, y=\"price\", showmeans=True, ax=ax[0])\n",
    "plt.show()"
   ]
  },
  {
   "cell_type": "code",
   "execution_count": 15,
   "metadata": {},
   "outputs": [
    {
     "name": "stdout",
     "output_type": "stream",
     "text": [
      "10th percentile: 500.0\n",
      "33th percentile: 800.0\n",
      "50th percentile: 995.0\n",
      "66th percentile: 1200.0\n",
      "90th percentile: 1950.0\n"
     ]
    }
   ],
   "source": [
    "percentiles = [10, 33, 50, 66, 90]\n",
    "for i in percentiles:\n",
    "    print(f'{i}th percentile: {np.percentile(data.price, i)}')"
   ]
  },
  {
   "cell_type": "markdown",
   "metadata": {},
   "source": [
    "## Section 2 - Exploratory Components"
   ]
  },
  {
   "cell_type": "markdown",
   "metadata": {},
   "source": [
    "### Which reviews show that the airbnb are dirty? Is copenhagen a more clean city for airbnbs overall or are all cities (which we are analyzing) similar?"
   ]
  },
  {
   "cell_type": "code",
   "execution_count": 119,
   "metadata": {},
   "outputs": [],
   "source": [
    "ny_review = pd.read_csv('C:/Users/guzma/OneDrive/Documents/TEC/DTU/42577/project/reviews_ny.csv.gz', compression = 'gzip')\n",
    "cop_review = pd.read_csv('C:/Users/guzma/OneDrive/Documents/TEC/DTU/42577/project/reviews_cop.csv.gz', compression = 'gzip')"
   ]
  },
  {
   "cell_type": "code",
   "execution_count": 120,
   "metadata": {},
   "outputs": [
    {
     "data": {
      "text/html": [
       "<div>\n",
       "<style scoped>\n",
       "    .dataframe tbody tr th:only-of-type {\n",
       "        vertical-align: middle;\n",
       "    }\n",
       "\n",
       "    .dataframe tbody tr th {\n",
       "        vertical-align: top;\n",
       "    }\n",
       "\n",
       "    .dataframe thead th {\n",
       "        text-align: right;\n",
       "    }\n",
       "</style>\n",
       "<table border=\"1\" class=\"dataframe\">\n",
       "  <thead>\n",
       "    <tr style=\"text-align: right;\">\n",
       "      <th></th>\n",
       "      <th>id_x</th>\n",
       "      <th>name</th>\n",
       "      <th>host_id</th>\n",
       "      <th>host_name</th>\n",
       "      <th>neighbourhood</th>\n",
       "      <th>latitude</th>\n",
       "      <th>longitude</th>\n",
       "      <th>room_type</th>\n",
       "      <th>price</th>\n",
       "      <th>minimum_nights</th>\n",
       "      <th>...</th>\n",
       "      <th>reviews_per_month</th>\n",
       "      <th>calculated_host_listings_count</th>\n",
       "      <th>availability_365</th>\n",
       "      <th>number_of_reviews_ltm</th>\n",
       "      <th>listing_id</th>\n",
       "      <th>id_y</th>\n",
       "      <th>date</th>\n",
       "      <th>reviewer_id</th>\n",
       "      <th>reviewer_name</th>\n",
       "      <th>comments</th>\n",
       "    </tr>\n",
       "  </thead>\n",
       "  <tbody>\n",
       "    <tr>\n",
       "      <th>0</th>\n",
       "      <td>6983</td>\n",
       "      <td>Copenhagen 'N Livin'</td>\n",
       "      <td>16774</td>\n",
       "      <td>Simon</td>\n",
       "      <td>Nrrebro</td>\n",
       "      <td>55.68641</td>\n",
       "      <td>12.54741</td>\n",
       "      <td>Entire home/apt</td>\n",
       "      <td>898</td>\n",
       "      <td>3</td>\n",
       "      <td>...</td>\n",
       "      <td>1.08</td>\n",
       "      <td>1</td>\n",
       "      <td>0</td>\n",
       "      <td>4</td>\n",
       "      <td>6983</td>\n",
       "      <td>8985</td>\n",
       "      <td>2009-09-04</td>\n",
       "      <td>31133</td>\n",
       "      <td>Jeff</td>\n",
       "      <td>Convenient location, clean apartment, great br...</td>\n",
       "    </tr>\n",
       "    <tr>\n",
       "      <th>1</th>\n",
       "      <td>6983</td>\n",
       "      <td>Copenhagen 'N Livin'</td>\n",
       "      <td>16774</td>\n",
       "      <td>Simon</td>\n",
       "      <td>Nrrebro</td>\n",
       "      <td>55.68641</td>\n",
       "      <td>12.54741</td>\n",
       "      <td>Entire home/apt</td>\n",
       "      <td>898</td>\n",
       "      <td>3</td>\n",
       "      <td>...</td>\n",
       "      <td>1.08</td>\n",
       "      <td>1</td>\n",
       "      <td>0</td>\n",
       "      <td>4</td>\n",
       "      <td>6983</td>\n",
       "      <td>9199</td>\n",
       "      <td>2009-09-07</td>\n",
       "      <td>11472</td>\n",
       "      <td>Andrea</td>\n",
       "      <td>We really enjoyed staying to Simon in our firs...</td>\n",
       "    </tr>\n",
       "    <tr>\n",
       "      <th>2</th>\n",
       "      <td>6983</td>\n",
       "      <td>Copenhagen 'N Livin'</td>\n",
       "      <td>16774</td>\n",
       "      <td>Simon</td>\n",
       "      <td>Nrrebro</td>\n",
       "      <td>55.68641</td>\n",
       "      <td>12.54741</td>\n",
       "      <td>Entire home/apt</td>\n",
       "      <td>898</td>\n",
       "      <td>3</td>\n",
       "      <td>...</td>\n",
       "      <td>1.08</td>\n",
       "      <td>1</td>\n",
       "      <td>0</td>\n",
       "      <td>4</td>\n",
       "      <td>6983</td>\n",
       "      <td>11763</td>\n",
       "      <td>2009-09-28</td>\n",
       "      <td>35317</td>\n",
       "      <td>Jeanine</td>\n",
       "      <td>Friendly host, save neighbourhood, clean appar...</td>\n",
       "    </tr>\n",
       "    <tr>\n",
       "      <th>3</th>\n",
       "      <td>6983</td>\n",
       "      <td>Copenhagen 'N Livin'</td>\n",
       "      <td>16774</td>\n",
       "      <td>Simon</td>\n",
       "      <td>Nrrebro</td>\n",
       "      <td>55.68641</td>\n",
       "      <td>12.54741</td>\n",
       "      <td>Entire home/apt</td>\n",
       "      <td>898</td>\n",
       "      <td>3</td>\n",
       "      <td>...</td>\n",
       "      <td>1.08</td>\n",
       "      <td>1</td>\n",
       "      <td>0</td>\n",
       "      <td>4</td>\n",
       "      <td>6983</td>\n",
       "      <td>20616</td>\n",
       "      <td>2009-12-17</td>\n",
       "      <td>53151</td>\n",
       "      <td>Sonja</td>\n",
       "      <td>Simon is great!  Fantastic place to stay, supe...</td>\n",
       "    </tr>\n",
       "    <tr>\n",
       "      <th>4</th>\n",
       "      <td>6983</td>\n",
       "      <td>Copenhagen 'N Livin'</td>\n",
       "      <td>16774</td>\n",
       "      <td>Simon</td>\n",
       "      <td>Nrrebro</td>\n",
       "      <td>55.68641</td>\n",
       "      <td>12.54741</td>\n",
       "      <td>Entire home/apt</td>\n",
       "      <td>898</td>\n",
       "      <td>3</td>\n",
       "      <td>...</td>\n",
       "      <td>1.08</td>\n",
       "      <td>1</td>\n",
       "      <td>0</td>\n",
       "      <td>4</td>\n",
       "      <td>6983</td>\n",
       "      <td>23168</td>\n",
       "      <td>2010-01-04</td>\n",
       "      <td>50856</td>\n",
       "      <td>James</td>\n",
       "      <td>Great bed, clean apartment, comfy bed, accomod...</td>\n",
       "    </tr>\n",
       "  </tbody>\n",
       "</table>\n",
       "<p>5 rows × 22 columns</p>\n",
       "</div>"
      ],
      "text/plain": [
       "   id_x                  name  host_id host_name neighbourhood  latitude  \\\n",
       "0  6983  Copenhagen 'N Livin'    16774     Simon       Nrrebro  55.68641   \n",
       "1  6983  Copenhagen 'N Livin'    16774     Simon       Nrrebro  55.68641   \n",
       "2  6983  Copenhagen 'N Livin'    16774     Simon       Nrrebro  55.68641   \n",
       "3  6983  Copenhagen 'N Livin'    16774     Simon       Nrrebro  55.68641   \n",
       "4  6983  Copenhagen 'N Livin'    16774     Simon       Nrrebro  55.68641   \n",
       "\n",
       "   longitude        room_type  price  minimum_nights  ...  reviews_per_month  \\\n",
       "0   12.54741  Entire home/apt    898               3  ...               1.08   \n",
       "1   12.54741  Entire home/apt    898               3  ...               1.08   \n",
       "2   12.54741  Entire home/apt    898               3  ...               1.08   \n",
       "3   12.54741  Entire home/apt    898               3  ...               1.08   \n",
       "4   12.54741  Entire home/apt    898               3  ...               1.08   \n",
       "\n",
       "  calculated_host_listings_count  availability_365  number_of_reviews_ltm  \\\n",
       "0                              1                 0                      4   \n",
       "1                              1                 0                      4   \n",
       "2                              1                 0                      4   \n",
       "3                              1                 0                      4   \n",
       "4                              1                 0                      4   \n",
       "\n",
       "   listing_id   id_y        date  reviewer_id reviewer_name  \\\n",
       "0        6983   8985  2009-09-04        31133          Jeff   \n",
       "1        6983   9199  2009-09-07        11472        Andrea   \n",
       "2        6983  11763  2009-09-28        35317       Jeanine   \n",
       "3        6983  20616  2009-12-17        53151         Sonja   \n",
       "4        6983  23168  2010-01-04        50856         James   \n",
       "\n",
       "                                            comments  \n",
       "0  Convenient location, clean apartment, great br...  \n",
       "1  We really enjoyed staying to Simon in our firs...  \n",
       "2  Friendly host, save neighbourhood, clean appar...  \n",
       "3  Simon is great!  Fantastic place to stay, supe...  \n",
       "4  Great bed, clean apartment, comfy bed, accomod...  \n",
       "\n",
       "[5 rows x 22 columns]"
      ]
     },
     "execution_count": 120,
     "metadata": {},
     "output_type": "execute_result"
    }
   ],
   "source": [
    "data_sec2 = pd.merge(data, cop_review, left_on='id', right_on='listing_id')\n",
    "data_sec2.head()"
   ]
  },
  {
   "cell_type": "code",
   "execution_count": 121,
   "metadata": {},
   "outputs": [],
   "source": [
    "data_sec2.comments.fillna('', inplace=True)"
   ]
  },
  {
   "cell_type": "code",
   "execution_count": 122,
   "metadata": {},
   "outputs": [],
   "source": [
    "dirty_commets = ['dirty','untidy', 'messy', 'shabby', 'disordered']"
   ]
  },
  {
   "cell_type": "markdown",
   "metadata": {},
   "source": [
    "#### Copenhagen Data"
   ]
  },
  {
   "cell_type": "code",
   "execution_count": 131,
   "metadata": {},
   "outputs": [],
   "source": [
    "# dirty_comment = data_sec2.groupby('id_x')['comments'].apply(lambda x: x[x.str.contains('dirty')].count())\n",
    "dirty_comment = data_sec2.groupby(['id_x'])['comments'].apply(lambda x: x[x.str.contains('dirty')].count())"
   ]
  },
  {
   "cell_type": "code",
   "execution_count": 132,
   "metadata": {},
   "outputs": [
    {
     "data": {
      "text/html": [
       "<div>\n",
       "<style scoped>\n",
       "    .dataframe tbody tr th:only-of-type {\n",
       "        vertical-align: middle;\n",
       "    }\n",
       "\n",
       "    .dataframe tbody tr th {\n",
       "        vertical-align: top;\n",
       "    }\n",
       "\n",
       "    .dataframe thead th {\n",
       "        text-align: right;\n",
       "    }\n",
       "</style>\n",
       "<table border=\"1\" class=\"dataframe\">\n",
       "  <thead>\n",
       "    <tr style=\"text-align: right;\">\n",
       "      <th></th>\n",
       "      <th>comments</th>\n",
       "    </tr>\n",
       "    <tr>\n",
       "      <th>id_x</th>\n",
       "      <th></th>\n",
       "    </tr>\n",
       "  </thead>\n",
       "  <tbody>\n",
       "    <tr>\n",
       "      <th>6983</th>\n",
       "      <td>0</td>\n",
       "    </tr>\n",
       "    <tr>\n",
       "      <th>26057</th>\n",
       "      <td>0</td>\n",
       "    </tr>\n",
       "    <tr>\n",
       "      <th>26473</th>\n",
       "      <td>1</td>\n",
       "    </tr>\n",
       "    <tr>\n",
       "      <th>29118</th>\n",
       "      <td>0</td>\n",
       "    </tr>\n",
       "    <tr>\n",
       "      <th>31094</th>\n",
       "      <td>0</td>\n",
       "    </tr>\n",
       "  </tbody>\n",
       "</table>\n",
       "</div>"
      ],
      "text/plain": [
       "       comments\n",
       "id_x           \n",
       "6983          0\n",
       "26057         0\n",
       "26473         1\n",
       "29118         0\n",
       "31094         0"
      ]
     },
     "execution_count": 132,
     "metadata": {},
     "output_type": "execute_result"
    }
   ],
   "source": [
    "dirty_comment = dirty_comment.to_frame()\n",
    "dirty_comment.head()"
   ]
  },
  {
   "cell_type": "code",
   "execution_count": 133,
   "metadata": {},
   "outputs": [],
   "source": [
    "dirty_comment.reset_index(inplace=True)\n",
    "dirty_comment.rename(columns={'index':'id_x', 'comments':'dirty_count'}, inplace=True)"
   ]
  },
  {
   "cell_type": "code",
   "execution_count": 134,
   "metadata": {},
   "outputs": [
    {
     "data": {
      "text/html": [
       "<div>\n",
       "<style scoped>\n",
       "    .dataframe tbody tr th:only-of-type {\n",
       "        vertical-align: middle;\n",
       "    }\n",
       "\n",
       "    .dataframe tbody tr th {\n",
       "        vertical-align: top;\n",
       "    }\n",
       "\n",
       "    .dataframe thead th {\n",
       "        text-align: right;\n",
       "    }\n",
       "</style>\n",
       "<table border=\"1\" class=\"dataframe\">\n",
       "  <thead>\n",
       "    <tr style=\"text-align: right;\">\n",
       "      <th></th>\n",
       "      <th>id_x</th>\n",
       "      <th>dirty_count</th>\n",
       "    </tr>\n",
       "  </thead>\n",
       "  <tbody>\n",
       "    <tr>\n",
       "      <th>0</th>\n",
       "      <td>6983</td>\n",
       "      <td>0</td>\n",
       "    </tr>\n",
       "    <tr>\n",
       "      <th>1</th>\n",
       "      <td>26057</td>\n",
       "      <td>0</td>\n",
       "    </tr>\n",
       "    <tr>\n",
       "      <th>2</th>\n",
       "      <td>26473</td>\n",
       "      <td>1</td>\n",
       "    </tr>\n",
       "    <tr>\n",
       "      <th>3</th>\n",
       "      <td>29118</td>\n",
       "      <td>0</td>\n",
       "    </tr>\n",
       "    <tr>\n",
       "      <th>4</th>\n",
       "      <td>31094</td>\n",
       "      <td>0</td>\n",
       "    </tr>\n",
       "  </tbody>\n",
       "</table>\n",
       "</div>"
      ],
      "text/plain": [
       "    id_x  dirty_count\n",
       "0   6983            0\n",
       "1  26057            0\n",
       "2  26473            1\n",
       "3  29118            0\n",
       "4  31094            0"
      ]
     },
     "execution_count": 134,
     "metadata": {},
     "output_type": "execute_result"
    }
   ],
   "source": [
    "dirty_comment.head()"
   ]
  },
  {
   "cell_type": "code",
   "execution_count": 135,
   "metadata": {},
   "outputs": [],
   "source": [
    "dirty_comment_ttl_count = data_sec2.listing_id.value_counts()\n",
    "# dirty_comment_ny_ttl_count.head()\n",
    "dirty_comment_ttl_count = dirty_comment_ttl_count.to_frame()"
   ]
  },
  {
   "cell_type": "code",
   "execution_count": 137,
   "metadata": {},
   "outputs": [],
   "source": [
    "dirty_comment_ttl_count.reset_index(inplace=True)\n",
    "dirty_comment_ttl_count.rename(columns={'index':'id_x', 'id_x':'total_count'}, inplace=True)"
   ]
  },
  {
   "cell_type": "code",
   "execution_count": 105,
   "metadata": {},
   "outputs": [],
   "source": [
    "# dirty_comment_ttl_count.drop(['level_0'], axis=1, inplace=True)"
   ]
  },
  {
   "cell_type": "code",
   "execution_count": 138,
   "metadata": {},
   "outputs": [],
   "source": [
    "dirty_comment = dirty_comment.merge(dirty_comment_ttl_count, on='id_x')"
   ]
  },
  {
   "cell_type": "code",
   "execution_count": 141,
   "metadata": {},
   "outputs": [
    {
     "data": {
      "text/html": [
       "<div>\n",
       "<style scoped>\n",
       "    .dataframe tbody tr th:only-of-type {\n",
       "        vertical-align: middle;\n",
       "    }\n",
       "\n",
       "    .dataframe tbody tr th {\n",
       "        vertical-align: top;\n",
       "    }\n",
       "\n",
       "    .dataframe thead th {\n",
       "        text-align: right;\n",
       "    }\n",
       "</style>\n",
       "<table border=\"1\" class=\"dataframe\">\n",
       "  <thead>\n",
       "    <tr style=\"text-align: right;\">\n",
       "      <th></th>\n",
       "      <th>id_x</th>\n",
       "      <th>dirty_count</th>\n",
       "      <th>total_count</th>\n",
       "      <th>dirty_percent</th>\n",
       "    </tr>\n",
       "  </thead>\n",
       "  <tbody>\n",
       "    <tr>\n",
       "      <th>0</th>\n",
       "      <td>6983</td>\n",
       "      <td>0</td>\n",
       "      <td>172</td>\n",
       "      <td>0.000000</td>\n",
       "    </tr>\n",
       "    <tr>\n",
       "      <th>1</th>\n",
       "      <td>26057</td>\n",
       "      <td>0</td>\n",
       "      <td>59</td>\n",
       "      <td>0.000000</td>\n",
       "    </tr>\n",
       "    <tr>\n",
       "      <th>2</th>\n",
       "      <td>26473</td>\n",
       "      <td>1</td>\n",
       "      <td>300</td>\n",
       "      <td>0.003333</td>\n",
       "    </tr>\n",
       "    <tr>\n",
       "      <th>3</th>\n",
       "      <td>29118</td>\n",
       "      <td>0</td>\n",
       "      <td>24</td>\n",
       "      <td>0.000000</td>\n",
       "    </tr>\n",
       "    <tr>\n",
       "      <th>4</th>\n",
       "      <td>31094</td>\n",
       "      <td>0</td>\n",
       "      <td>19</td>\n",
       "      <td>0.000000</td>\n",
       "    </tr>\n",
       "  </tbody>\n",
       "</table>\n",
       "</div>"
      ],
      "text/plain": [
       "    id_x  dirty_count  total_count  dirty_percent\n",
       "0   6983            0          172       0.000000\n",
       "1  26057            0           59       0.000000\n",
       "2  26473            1          300       0.003333\n",
       "3  29118            0           24       0.000000\n",
       "4  31094            0           19       0.000000"
      ]
     },
     "execution_count": 141,
     "metadata": {},
     "output_type": "execute_result"
    }
   ],
   "source": [
    "dirty_comment.rename(columns={'comments':'dirty_count', 'listing_id':'total_count'}, inplace=True)\n",
    "dirty_comment['dirty_percent'] = dirty_comment['dirty_count'] / dirty_comment['total_count']\n",
    "dirty_comment.head()"
   ]
  },
  {
   "cell_type": "code",
   "execution_count": 142,
   "metadata": {},
   "outputs": [
    {
     "name": "stdout",
     "output_type": "stream",
     "text": [
      "The listing with most dirty reviews percentage in Copenhagen has: 50.0 % of dirty reviews\n",
      "The average percent of dirty comments in Copenhagen is 0.18614131300318362 %\n"
     ]
    }
   ],
   "source": [
    "print(f'The listing with most dirty reviews percentage in Copenhagen has: {dirty_comment.dirty_percent.max()*100} % of dirty reviews')\n",
    "print(f'The average percent of dirty comments in Copenhagen is {dirty_comment.dirty_percent.mean()*100} %')"
   ]
  },
  {
   "cell_type": "markdown",
   "metadata": {},
   "source": [
    "#### New York Data"
   ]
  },
  {
   "cell_type": "code",
   "execution_count": 58,
   "metadata": {},
   "outputs": [],
   "source": [
    "ny_review.drop(['reviewer_id', 'reviewer_name'],axis=1, inplace=True)"
   ]
  },
  {
   "cell_type": "code",
   "execution_count": 59,
   "metadata": {},
   "outputs": [
    {
     "data": {
      "text/html": [
       "<div>\n",
       "<style scoped>\n",
       "    .dataframe tbody tr th:only-of-type {\n",
       "        vertical-align: middle;\n",
       "    }\n",
       "\n",
       "    .dataframe tbody tr th {\n",
       "        vertical-align: top;\n",
       "    }\n",
       "\n",
       "    .dataframe thead th {\n",
       "        text-align: right;\n",
       "    }\n",
       "</style>\n",
       "<table border=\"1\" class=\"dataframe\">\n",
       "  <thead>\n",
       "    <tr style=\"text-align: right;\">\n",
       "      <th></th>\n",
       "      <th>listing_id</th>\n",
       "      <th>id</th>\n",
       "      <th>date</th>\n",
       "      <th>comments</th>\n",
       "    </tr>\n",
       "  </thead>\n",
       "  <tbody>\n",
       "    <tr>\n",
       "      <th>0</th>\n",
       "      <td>2539</td>\n",
       "      <td>55688172</td>\n",
       "      <td>2015-12-04</td>\n",
       "      <td>Great host</td>\n",
       "    </tr>\n",
       "    <tr>\n",
       "      <th>1</th>\n",
       "      <td>2539</td>\n",
       "      <td>97474898</td>\n",
       "      <td>2016-08-27</td>\n",
       "      <td>Nice room for the price. Great neighborhood. J...</td>\n",
       "    </tr>\n",
       "    <tr>\n",
       "      <th>2</th>\n",
       "      <td>2539</td>\n",
       "      <td>105340344</td>\n",
       "      <td>2016-10-01</td>\n",
       "      <td>Very nice apt.  New remodeled.</td>\n",
       "    </tr>\n",
       "    <tr>\n",
       "      <th>3</th>\n",
       "      <td>2539</td>\n",
       "      <td>133131670</td>\n",
       "      <td>2017-02-20</td>\n",
       "      <td>Great place to stay for a while. John is a gre...</td>\n",
       "    </tr>\n",
       "    <tr>\n",
       "      <th>4</th>\n",
       "      <td>2539</td>\n",
       "      <td>138349776</td>\n",
       "      <td>2017-03-19</td>\n",
       "      <td>.</td>\n",
       "    </tr>\n",
       "  </tbody>\n",
       "</table>\n",
       "</div>"
      ],
      "text/plain": [
       "   listing_id         id        date  \\\n",
       "0        2539   55688172  2015-12-04   \n",
       "1        2539   97474898  2016-08-27   \n",
       "2        2539  105340344  2016-10-01   \n",
       "3        2539  133131670  2017-02-20   \n",
       "4        2539  138349776  2017-03-19   \n",
       "\n",
       "                                            comments  \n",
       "0                                        Great host   \n",
       "1  Nice room for the price. Great neighborhood. J...  \n",
       "2                     Very nice apt.  New remodeled.  \n",
       "3  Great place to stay for a while. John is a gre...  \n",
       "4                                                  .  "
      ]
     },
     "execution_count": 59,
     "metadata": {},
     "output_type": "execute_result"
    }
   ],
   "source": [
    "ny_review.head()"
   ]
  },
  {
   "cell_type": "code",
   "execution_count": 60,
   "metadata": {},
   "outputs": [],
   "source": [
    "ny_review.comments.fillna('', inplace=True)"
   ]
  },
  {
   "cell_type": "code",
   "execution_count": 61,
   "metadata": {},
   "outputs": [
    {
     "data": {
      "text/html": [
       "<div>\n",
       "<style scoped>\n",
       "    .dataframe tbody tr th:only-of-type {\n",
       "        vertical-align: middle;\n",
       "    }\n",
       "\n",
       "    .dataframe tbody tr th {\n",
       "        vertical-align: top;\n",
       "    }\n",
       "\n",
       "    .dataframe thead th {\n",
       "        text-align: right;\n",
       "    }\n",
       "</style>\n",
       "<table border=\"1\" class=\"dataframe\">\n",
       "  <thead>\n",
       "    <tr style=\"text-align: right;\">\n",
       "      <th></th>\n",
       "      <th>comments</th>\n",
       "    </tr>\n",
       "    <tr>\n",
       "      <th>listing_id</th>\n",
       "      <th></th>\n",
       "    </tr>\n",
       "  </thead>\n",
       "  <tbody>\n",
       "    <tr>\n",
       "      <th>2539</th>\n",
       "      <td>0</td>\n",
       "    </tr>\n",
       "    <tr>\n",
       "      <th>2595</th>\n",
       "      <td>0</td>\n",
       "    </tr>\n",
       "    <tr>\n",
       "      <th>5121</th>\n",
       "      <td>0</td>\n",
       "    </tr>\n",
       "    <tr>\n",
       "      <th>5136</th>\n",
       "      <td>0</td>\n",
       "    </tr>\n",
       "    <tr>\n",
       "      <th>5178</th>\n",
       "      <td>17</td>\n",
       "    </tr>\n",
       "  </tbody>\n",
       "</table>\n",
       "</div>"
      ],
      "text/plain": [
       "            comments\n",
       "listing_id          \n",
       "2539               0\n",
       "2595               0\n",
       "5121               0\n",
       "5136               0\n",
       "5178              17"
      ]
     },
     "execution_count": 61,
     "metadata": {},
     "output_type": "execute_result"
    }
   ],
   "source": [
    "dirty_comment_ny = ny_review.groupby('listing_id')['comments'].apply(lambda x: x[x.str.contains('dirty')].count())\n",
    "dirty_comment_ny = dirty_comment_ny.to_frame()\n",
    "dirty_comment_ny.head()"
   ]
  },
  {
   "cell_type": "code",
   "execution_count": 62,
   "metadata": {},
   "outputs": [],
   "source": [
    "# dirty_comment_ny_ttl_count = ny_review.groupby('listing_id')['listing_id'].count()\n",
    "dirty_comment_ny_ttl_count = ny_review.listing_id.value_counts()\n",
    "# dirty_comment_ny_ttl_count.head()\n",
    "dirty_comment_ny_ttl_count = dirty_comment_ny_ttl_count.to_frame()"
   ]
  },
  {
   "cell_type": "code",
   "execution_count": 66,
   "metadata": {},
   "outputs": [],
   "source": [
    "dirty_comment_ny_ttl_count.reset_index(inplace=True)\n",
    "dirty_comment_ny_ttl_count.rename(columns={'index':'listing_id', 'listing_id':'total_count'}, inplace=True)"
   ]
  },
  {
   "cell_type": "code",
   "execution_count": 69,
   "metadata": {},
   "outputs": [],
   "source": [
    "dirty_comment_ny_ttl_count.drop(['level_0'], axis=1, inplace=True)"
   ]
  },
  {
   "cell_type": "code",
   "execution_count": 70,
   "metadata": {},
   "outputs": [],
   "source": [
    "dirty_comment_ny = dirty_comment_ny.merge(dirty_comment_ny_ttl_count, on='listing_id')"
   ]
  },
  {
   "cell_type": "code",
   "execution_count": 72,
   "metadata": {},
   "outputs": [
    {
     "data": {
      "text/html": [
       "<div>\n",
       "<style scoped>\n",
       "    .dataframe tbody tr th:only-of-type {\n",
       "        vertical-align: middle;\n",
       "    }\n",
       "\n",
       "    .dataframe tbody tr th {\n",
       "        vertical-align: top;\n",
       "    }\n",
       "\n",
       "    .dataframe thead th {\n",
       "        text-align: right;\n",
       "    }\n",
       "</style>\n",
       "<table border=\"1\" class=\"dataframe\">\n",
       "  <thead>\n",
       "    <tr style=\"text-align: right;\">\n",
       "      <th></th>\n",
       "      <th>listing_id</th>\n",
       "      <th>dirty_count</th>\n",
       "      <th>total_count</th>\n",
       "      <th>dirty_percent</th>\n",
       "    </tr>\n",
       "  </thead>\n",
       "  <tbody>\n",
       "    <tr>\n",
       "      <th>0</th>\n",
       "      <td>2539</td>\n",
       "      <td>0</td>\n",
       "      <td>9</td>\n",
       "      <td>0.000000</td>\n",
       "    </tr>\n",
       "    <tr>\n",
       "      <th>1</th>\n",
       "      <td>2595</td>\n",
       "      <td>0</td>\n",
       "      <td>49</td>\n",
       "      <td>0.000000</td>\n",
       "    </tr>\n",
       "    <tr>\n",
       "      <th>2</th>\n",
       "      <td>5121</td>\n",
       "      <td>0</td>\n",
       "      <td>50</td>\n",
       "      <td>0.000000</td>\n",
       "    </tr>\n",
       "    <tr>\n",
       "      <th>3</th>\n",
       "      <td>5136</td>\n",
       "      <td>0</td>\n",
       "      <td>3</td>\n",
       "      <td>0.000000</td>\n",
       "    </tr>\n",
       "    <tr>\n",
       "      <th>4</th>\n",
       "      <td>5178</td>\n",
       "      <td>17</td>\n",
       "      <td>550</td>\n",
       "      <td>0.030909</td>\n",
       "    </tr>\n",
       "  </tbody>\n",
       "</table>\n",
       "</div>"
      ],
      "text/plain": [
       "   listing_id  dirty_count  total_count  dirty_percent\n",
       "0        2539            0            9       0.000000\n",
       "1        2595            0           49       0.000000\n",
       "2        5121            0           50       0.000000\n",
       "3        5136            0            3       0.000000\n",
       "4        5178           17          550       0.030909"
      ]
     },
     "execution_count": 72,
     "metadata": {},
     "output_type": "execute_result"
    }
   ],
   "source": [
    "dirty_comment_ny.rename(columns={'comments':'dirty_count'}, inplace=True)\n",
    "dirty_comment_ny['dirty_percent'] = dirty_comment_ny['dirty_count'] / dirty_comment_ny['total_count']\n",
    "dirty_comment_ny.head()"
   ]
  },
  {
   "cell_type": "code",
   "execution_count": 75,
   "metadata": {},
   "outputs": [
    {
     "name": "stdout",
     "output_type": "stream",
     "text": [
      "The listing with most dirty reviews percentage in New York has: 100.0 % of dirty reviews\n",
      "The average percent of dirty comments in New York is 0.7393471914430007 %\n"
     ]
    }
   ],
   "source": [
    "print(f'The listing with most dirty reviews percentage in New York has: {dirty_comment_ny.dirty_percent.max()*100} % of dirty reviews')\n",
    "print(f'The average percent of dirty comments in New York is {dirty_comment_ny.dirty_percent.mean()*100} %')"
   ]
  },
  {
   "cell_type": "code",
   "execution_count": null,
   "metadata": {},
   "outputs": [
    {
     "name": "stdout",
     "output_type": "stream",
     "text": [
      "31519\n"
     ]
    },
    {
     "data": {
      "text/plain": [
       "4456"
      ]
     },
     "execution_count": 60,
     "metadata": {},
     "output_type": "execute_result"
    }
   ],
   "source": [
    "print(dirty_comment_ny.shape[0])\n",
    "dirty_comment_ny.comments.sum()"
   ]
  },
  {
   "cell_type": "code",
   "execution_count": null,
   "metadata": {},
   "outputs": [
    {
     "name": "stdout",
     "output_type": "stream",
     "text": [
      "The listing with most dirty reviews in Copenhagen has: 8 dirty reviews\n",
      "The listing with most dirty reviews in New York has: 23 dirty reviews\n"
     ]
    }
   ],
   "source": [
    "print(f'The listing with most dirty reviews in Copenhagen has: {dirty_comment.comments.max()} dirty reviews')\n",
    "print(f'The listing with most dirty reviews in New York has: {dirty_comment_ny.comments.max()} dirty reviews')"
   ]
  },
  {
   "cell_type": "markdown",
   "metadata": {},
   "source": [
    "## Section 3 - Prediction Challenge"
   ]
  },
  {
   "cell_type": "markdown",
   "metadata": {},
   "source": [
    "## Binary classification"
   ]
  },
  {
   "cell_type": "markdown",
   "metadata": {},
   "source": [
    "If we thinkg back to section 1 where we obtained not only the distribution of the price, but also obtained the percentiles for it we can start to think about how we can classify the price as either *high* or *low*. The idea is to set a low price to anything below or equal to the 66th percentile. Anything above will be considered high in the binary classification task."
   ]
  },
  {
   "cell_type": "code",
   "execution_count": null,
   "metadata": {},
   "outputs": [],
   "source": [
    "data_binary = data.copy()\n",
    "data_binary['price_label'] = data_binary['price'].apply(lambda x: 'High' if x > np.percentile(data.price, 66) else 'Low')"
   ]
  },
  {
   "cell_type": "code",
   "execution_count": null,
   "metadata": {},
   "outputs": [
    {
     "data": {
      "text/html": [
       "<div>\n",
       "<style scoped>\n",
       "    .dataframe tbody tr th:only-of-type {\n",
       "        vertical-align: middle;\n",
       "    }\n",
       "\n",
       "    .dataframe tbody tr th {\n",
       "        vertical-align: top;\n",
       "    }\n",
       "\n",
       "    .dataframe thead th {\n",
       "        text-align: right;\n",
       "    }\n",
       "</style>\n",
       "<table border=\"1\" class=\"dataframe\">\n",
       "  <thead>\n",
       "    <tr style=\"text-align: right;\">\n",
       "      <th></th>\n",
       "      <th>id</th>\n",
       "      <th>name</th>\n",
       "      <th>host_id</th>\n",
       "      <th>host_name</th>\n",
       "      <th>neighbourhood</th>\n",
       "      <th>latitude</th>\n",
       "      <th>longitude</th>\n",
       "      <th>room_type</th>\n",
       "      <th>price</th>\n",
       "      <th>minimum_nights</th>\n",
       "      <th>number_of_reviews</th>\n",
       "      <th>last_review</th>\n",
       "      <th>reviews_per_month</th>\n",
       "      <th>calculated_host_listings_count</th>\n",
       "      <th>availability_365</th>\n",
       "      <th>number_of_reviews_ltm</th>\n",
       "      <th>price_label</th>\n",
       "    </tr>\n",
       "  </thead>\n",
       "  <tbody>\n",
       "    <tr>\n",
       "      <th>0</th>\n",
       "      <td>6983</td>\n",
       "      <td>Copenhagen 'N Livin'</td>\n",
       "      <td>16774</td>\n",
       "      <td>Simon</td>\n",
       "      <td>Nrrebro</td>\n",
       "      <td>55.686410</td>\n",
       "      <td>12.547410</td>\n",
       "      <td>Entire home/apt</td>\n",
       "      <td>898</td>\n",
       "      <td>3</td>\n",
       "      <td>172</td>\n",
       "      <td>2022-06-21</td>\n",
       "      <td>1.08</td>\n",
       "      <td>1</td>\n",
       "      <td>0</td>\n",
       "      <td>4</td>\n",
       "      <td>Low</td>\n",
       "    </tr>\n",
       "    <tr>\n",
       "      <th>1</th>\n",
       "      <td>26057</td>\n",
       "      <td>Lovely house - most attractive area</td>\n",
       "      <td>109777</td>\n",
       "      <td>Kari</td>\n",
       "      <td>Indre By</td>\n",
       "      <td>55.693070</td>\n",
       "      <td>12.576490</td>\n",
       "      <td>Entire home/apt</td>\n",
       "      <td>2600</td>\n",
       "      <td>4</td>\n",
       "      <td>59</td>\n",
       "      <td>2022-08-09</td>\n",
       "      <td>0.55</td>\n",
       "      <td>1</td>\n",
       "      <td>303</td>\n",
       "      <td>8</td>\n",
       "      <td>High</td>\n",
       "    </tr>\n",
       "    <tr>\n",
       "      <th>2</th>\n",
       "      <td>26473</td>\n",
       "      <td>City Centre Townhouse Sleeps 1-10 persons</td>\n",
       "      <td>112210</td>\n",
       "      <td>Julia</td>\n",
       "      <td>Indre By</td>\n",
       "      <td>55.676020</td>\n",
       "      <td>12.575400</td>\n",
       "      <td>Entire home/apt</td>\n",
       "      <td>3250</td>\n",
       "      <td>3</td>\n",
       "      <td>300</td>\n",
       "      <td>2022-09-10</td>\n",
       "      <td>2.06</td>\n",
       "      <td>3</td>\n",
       "      <td>56</td>\n",
       "      <td>7</td>\n",
       "      <td>High</td>\n",
       "    </tr>\n",
       "    <tr>\n",
       "      <th>3</th>\n",
       "      <td>29118</td>\n",
       "      <td>Best Location in Cool Istedgade</td>\n",
       "      <td>125230</td>\n",
       "      <td>Nana</td>\n",
       "      <td>Vesterbro-Kongens Enghave</td>\n",
       "      <td>55.670230</td>\n",
       "      <td>12.555040</td>\n",
       "      <td>Entire home/apt</td>\n",
       "      <td>725</td>\n",
       "      <td>7</td>\n",
       "      <td>24</td>\n",
       "      <td>2022-08-04</td>\n",
       "      <td>0.16</td>\n",
       "      <td>1</td>\n",
       "      <td>59</td>\n",
       "      <td>2</td>\n",
       "      <td>Low</td>\n",
       "    </tr>\n",
       "    <tr>\n",
       "      <th>4</th>\n",
       "      <td>31094</td>\n",
       "      <td>Beautiful, spacious, central, renovated Penthouse</td>\n",
       "      <td>129976</td>\n",
       "      <td>Ebbe</td>\n",
       "      <td>Vesterbro-Kongens Enghave</td>\n",
       "      <td>55.666602</td>\n",
       "      <td>12.555283</td>\n",
       "      <td>Entire home/apt</td>\n",
       "      <td>1954</td>\n",
       "      <td>3</td>\n",
       "      <td>19</td>\n",
       "      <td>2022-08-22</td>\n",
       "      <td>0.13</td>\n",
       "      <td>1</td>\n",
       "      <td>0</td>\n",
       "      <td>2</td>\n",
       "      <td>High</td>\n",
       "    </tr>\n",
       "  </tbody>\n",
       "</table>\n",
       "</div>"
      ],
      "text/plain": [
       "      id                                               name  host_id  \\\n",
       "0   6983                               Copenhagen 'N Livin'    16774   \n",
       "1  26057                Lovely house - most attractive area   109777   \n",
       "2  26473          City Centre Townhouse Sleeps 1-10 persons   112210   \n",
       "3  29118                    Best Location in Cool Istedgade   125230   \n",
       "4  31094  Beautiful, spacious, central, renovated Penthouse   129976   \n",
       "\n",
       "  host_name              neighbourhood   latitude  longitude        room_type  \\\n",
       "0     Simon                    Nrrebro  55.686410  12.547410  Entire home/apt   \n",
       "1      Kari                   Indre By  55.693070  12.576490  Entire home/apt   \n",
       "2     Julia                   Indre By  55.676020  12.575400  Entire home/apt   \n",
       "3      Nana  Vesterbro-Kongens Enghave  55.670230  12.555040  Entire home/apt   \n",
       "4      Ebbe  Vesterbro-Kongens Enghave  55.666602  12.555283  Entire home/apt   \n",
       "\n",
       "   price  minimum_nights  number_of_reviews last_review  reviews_per_month  \\\n",
       "0    898               3                172  2022-06-21               1.08   \n",
       "1   2600               4                 59  2022-08-09               0.55   \n",
       "2   3250               3                300  2022-09-10               2.06   \n",
       "3    725               7                 24  2022-08-04               0.16   \n",
       "4   1954               3                 19  2022-08-22               0.13   \n",
       "\n",
       "   calculated_host_listings_count  availability_365  number_of_reviews_ltm  \\\n",
       "0                               1                 0                      4   \n",
       "1                               1               303                      8   \n",
       "2                               3                56                      7   \n",
       "3                               1                59                      2   \n",
       "4                               1                 0                      2   \n",
       "\n",
       "  price_label  \n",
       "0         Low  \n",
       "1        High  \n",
       "2        High  \n",
       "3         Low  \n",
       "4        High  "
      ]
     },
     "execution_count": 87,
     "metadata": {},
     "output_type": "execute_result"
    }
   ],
   "source": [
    "data_binary.last_review = pd.to_datetime(data_binary.last_review)\n",
    "data_binary.head()"
   ]
  },
  {
   "cell_type": "markdown",
   "metadata": {},
   "source": [
    "Now that we have set the label in our data we can begin to create the model to classify our price data. We will be using **Logistic Regression** to classify our data."
   ]
  },
  {
   "cell_type": "code",
   "execution_count": null,
   "metadata": {},
   "outputs": [
    {
     "name": "stderr",
     "output_type": "stream",
     "text": [
      "C:\\Users\\guzma\\AppData\\Local\\Temp\\ipykernel_20668\\1540878905.py:2: FutureWarning: In a future version of pandas all arguments of concat except for the argument 'objs' will be keyword-only.\n",
      "  data_X = pd.concat([data_binary, pd.get_dummies(data_binary['room_type'])],1)\n"
     ]
    }
   ],
   "source": [
    "y = data_binary['price_label']\n",
    "data_X = pd.concat([data_binary, pd.get_dummies(data_binary['room_type'])],1)\n",
    "X = data_X.drop(['price_label', 'name', 'room_type','host_name', 'id', 'host_id', 'neighbourhood', 'last_review', 'price'], axis=1)"
   ]
  },
  {
   "cell_type": "code",
   "execution_count": null,
   "metadata": {},
   "outputs": [
    {
     "name": "stdout",
     "output_type": "stream",
     "text": [
      "Accuracy: 0.7227985524728588\n",
      "Confusion Matrix:\n",
      " [[ 326  933]\n",
      " [ 216 2670]]\n",
      "Classification Report:\n",
      "               precision    recall  f1-score   support\n",
      "\n",
      "        High       0.60      0.26      0.36      1259\n",
      "         Low       0.74      0.93      0.82      2886\n",
      "\n",
      "    accuracy                           0.72      4145\n",
      "   macro avg       0.67      0.59      0.59      4145\n",
      "weighted avg       0.70      0.72      0.68      4145\n",
      "\n"
     ]
    },
    {
     "name": "stderr",
     "output_type": "stream",
     "text": [
      "c:\\Users\\guzma\\AppData\\Local\\Programs\\Python\\Python310\\lib\\site-packages\\sklearn\\linear_model\\_logistic.py:814: ConvergenceWarning: lbfgs failed to converge (status=1):\n",
      "STOP: TOTAL NO. of ITERATIONS REACHED LIMIT.\n",
      "\n",
      "Increase the number of iterations (max_iter) or scale the data as shown in:\n",
      "    https://scikit-learn.org/stable/modules/preprocessing.html\n",
      "Please also refer to the documentation for alternative solver options:\n",
      "    https://scikit-learn.org/stable/modules/linear_model.html#logistic-regression\n",
      "  n_iter_i = _check_optimize_result(\n"
     ]
    }
   ],
   "source": [
    "from sklearn.linear_model import LogisticRegression\n",
    "from sklearn.model_selection import train_test_split\n",
    "from sklearn.metrics import accuracy_score, confusion_matrix, classification_report\n",
    "# from sklearn.metrics import f1_score\n",
    "\n",
    "model = LogisticRegression(C=10)\n",
    "\n",
    "X_train, X_test, y_train, y_test = train_test_split(X, y, test_size=0.3, random_state=42)\n",
    "model.fit(X_train, y_train)\n",
    "y_pred = model.predict(X_test)\n",
    "\n",
    "# f1 = f1_score(y_test, y_pred, labels=['High', 'Low'], average='binary', pos_label='Low') # Calculates the F1 score for our variable of either high or low\n",
    "\n",
    "print(f'Accuracy: {accuracy_score(y_test, y_pred)}')\n",
    "print(f'Confusion Matrix:\\n {confusion_matrix(y_test, y_pred)}')\n",
    "print(f'Classification Report:\\n {classification_report(y_test, y_pred)}')\n",
    "# print(f'F1 Score: {f1}')"
   ]
  },
  {
   "cell_type": "markdown",
   "metadata": {},
   "source": [
    "The results above are self explanatory, although it might be a little bit hard to understand the true F1 score, therefore we are going to implement a snip of code from the lectures to better show the general f1 score."
   ]
  },
  {
   "cell_type": "code",
   "execution_count": null,
   "metadata": {},
   "outputs": [
    {
     "name": "stdout",
     "output_type": "stream",
     "text": [
      "F1 Score: 0.82293111419325\n"
     ]
    }
   ],
   "source": [
    "from sklearn.metrics import confusion_matrix, recall_score, accuracy_score, precision_score\n",
    "\n",
    "precision = precision_score(y_test, y_pred, average=None, labels=['High','Low'])[1]\n",
    "recall = recall_score(y_test, y_pred, average=None, labels=['High','Low'])[1]\n",
    "f1 = 2 * precision * recall / (precision + recall)\n",
    "print(f'F1 Score: {f1}')"
   ]
  },
  {
   "cell_type": "markdown",
   "metadata": {},
   "source": [
    "It looks great. We started with a goal to obtain a minimum of 0.6 on our f1 score but we have obtained a score greater than 0.8. By no means is this the best the model is capable of, but for now we will leave the score as is. Now we will visualize the confusion matrix show above in a better light to have an easier time understanding it."
   ]
  },
  {
   "cell_type": "code",
   "execution_count": null,
   "metadata": {},
   "outputs": [
    {
     "name": "stderr",
     "output_type": "stream",
     "text": [
      "c:\\Users\\guzma\\AppData\\Local\\Programs\\Python\\Python310\\lib\\site-packages\\sklearn\\utils\\deprecation.py:87: FutureWarning: Function plot_confusion_matrix is deprecated; Function `plot_confusion_matrix` is deprecated in 1.0 and will be removed in 1.2. Use one of the class methods: ConfusionMatrixDisplay.from_predictions or ConfusionMatrixDisplay.from_estimator.\n",
      "  warnings.warn(msg, category=FutureWarning)\n"
     ]
    },
    {
     "data": {
      "image/png": "[encoded data removed]",
      "text/plain": [
       "<Figure size 842.4x595.44 with 2 Axes>"
      ]
     },
     "metadata": {},
     "output_type": "display_data"
    }
   ],
   "source": [
    "from sklearn.metrics import plot_confusion_matrix\n",
    "\n",
    "plot_confusion_matrix(model, X_test, y_test, cmap=plt.cm.Blues, normalize='true')\n",
    "plt.grid(False)"
   ]
  },
  {
   "cell_type": "markdown",
   "metadata": {},
   "source": [
    "Now we can conclude that Logistic Regression to predict price is a great model and can accurately predict 80% of the time wheter the price is going to be high or low. We believe that implementing geographic data could be useful to further improve the model."
   ]
  },
  {
   "cell_type": "markdown",
   "metadata": {},
   "source": [
    "### Multi Class Classification"
   ]
  },
  {
   "cell_type": "markdown",
   "metadata": {},
   "source": [
    "For working with multiple values in classification we are going to first implement a function that helps us classify wheter the price is high, which is any price above the 66th percentile in prices, a price that is low, defined as any price below the 33th percentile or, if the price is medium, defined as any price in between the 33th and 66th percentile."
   ]
  },
  {
   "cell_type": "code",
   "execution_count": null,
   "metadata": {},
   "outputs": [],
   "source": [
    "def classify_price(price):\n",
    "    if price > np.percentile(data.price, 66):\n",
    "        return 'High'\n",
    "    elif price < np.percentile(data.price, 33):\n",
    "        return 'Low'\n",
    "    else:\n",
    "        return 'Medium'"
   ]
  },
  {
   "cell_type": "code",
   "execution_count": null,
   "metadata": {},
   "outputs": [],
   "source": [
    "data_multi = data.copy()\n",
    "data_multi['price_label'] = data_multi['price'].apply(classify_price)"
   ]
  },
  {
   "cell_type": "markdown",
   "metadata": {},
   "source": [
    "Now that we have defined our labels it's time we create our training and testing set for our classification model. We will utilize the same code as in the binary classification."
   ]
  },
  {
   "cell_type": "code",
   "execution_count": null,
   "metadata": {},
   "outputs": [
    {
     "name": "stderr",
     "output_type": "stream",
     "text": [
      "C:\\Users\\guzma\\AppData\\Local\\Temp\\ipykernel_20668\\3827352903.py:2: FutureWarning: In a future version of pandas all arguments of concat except for the argument 'objs' will be keyword-only.\n",
      "  data_X = pd.concat([data_multi, pd.get_dummies(data_multi['room_type'])],1)\n"
     ]
    }
   ],
   "source": [
    "y = data_multi['price_label']\n",
    "data_X = pd.concat([data_multi, pd.get_dummies(data_multi['room_type'])],1)\n",
    "X = data_X.drop(['price_label', 'name', 'room_type','host_name', 'id', 'host_id', 'neighbourhood', 'last_review', 'price'], axis=1)"
   ]
  },
  {
   "cell_type": "markdown",
   "metadata": {},
   "source": [
    "Now it's time to define our model. We believe that our model should be ... since it's useful for our current predicament and it can also be visualized in a nice way. We will start the implementation with the code below."
   ]
  },
  {
   "cell_type": "code",
   "execution_count": null,
   "metadata": {},
   "outputs": [],
   "source": []
  },
  {
   "cell_type": "markdown",
   "metadata": {},
   "source": [
    "## Section 4 - Conclusions"
   ]
  }
 ],
 "metadata": {
  "kernelspec": {
   "display_name": "Python 3.10.2 64-bit",
   "language": "python",
   "name": "python3"
  },
  "language_info": {
   "codemirror_mode": {
    "name": "ipython",
    "version": 3
   },
   "file_extension": ".py",
   "mimetype": "text/x-python",
   "name": "python",
   "nbconvert_exporter": "python",
   "pygments_lexer": "ipython3",
   "version": "3.10.2"
  },
  "orig_nbformat": 4,
  "vscode": {
   "interpreter": {
    "hash": "9959bfa401c4caffb955641b8073b423143544ccdcedf37cb9b7539bcd316359"
   }
  }
 },
 "nbformat": 4,
 "nbformat_minor": 2
}
